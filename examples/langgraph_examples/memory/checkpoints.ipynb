{
 "cells": [
  {
   "cell_type": "code",
   "execution_count": null,
   "metadata": {},
   "outputs": [],
   "source": [
    "from dotenv import load_dotenv\n",
    "load_dotenv()"
   ]
  },
  {
   "cell_type": "code",
   "execution_count": 4,
   "metadata": {},
   "outputs": [],
   "source": [
    "from typing import Annotated\n",
    "from typing_extensions import TypedDict\n",
    "from langgraph.graph import StateGraph, START, END\n",
    "from langgraph.graph.message import add_messages\n",
    "from langchain_openai import ChatOpenAI\n",
    "from langgraph.checkpoint.memory import MemorySaver"
   ]
  },
  {
   "cell_type": "code",
   "execution_count": 5,
   "metadata": {},
   "outputs": [],
   "source": [
    "class State(TypedDict):\n",
    "    messages: Annotated[list, add_messages]\n",
    "\n",
    "graph_builder = StateGraph(State)\n",
    "llm = ChatOpenAI(streaming=True)\n",
    "def chatbot(state: State):\n",
    "    return {\"messages\": [llm.invoke(state[\"messages\"])]}\n",
    "\n",
    "graph_builder.add_node(\"chatbot\", chatbot)\n",
    "graph_builder.add_edge(START, \"chatbot\")\n",
    "graph_builder.add_edge(\"chatbot\", END)\n",
    "\n",
    "checkpointer = MemorySaver()\n",
    "graph = graph_builder.compile(checkpointer=checkpointer)"
   ]
  },
  {
   "cell_type": "code",
   "execution_count": 6,
   "metadata": {},
   "outputs": [
    {
     "data": {
      "image/jpeg": "[encoded data removed]",
      "text/plain": [
       "<IPython.core.display.Image object>"
      ]
     },
     "metadata": {},
     "output_type": "display_data"
    }
   ],
   "source": [
    "from IPython.display import Image, display\n",
    "\n",
    "try:\n",
    "    display(Image(graph.get_graph().draw_mermaid_png()))\n",
    "except Exception:\n",
    "    # This requires some extra dependencies and is optional\n",
    "    pass"
   ]
  },
  {
   "cell_type": "code",
   "execution_count": 7,
   "metadata": {},
   "outputs": [
    {
     "name": "stdout",
     "output_type": "stream",
     "text": [
      "================================\u001b[1m Human Message \u001b[0m=================================\n",
      "\n",
      "Hi there! My name is Yamoto.\n",
      "==================================\u001b[1m Ai Message \u001b[0m==================================\n",
      "\n",
      "Hello Yamoto! It's nice to meet you. How can I assist you today?\n"
     ]
    }
   ],
   "source": [
    "config = {\"configurable\": {\"thread_id\": \"1\"}}\n",
    "\n",
    "user_input = \"Hi there! My name is Yamoto.\"\n",
    "\n",
    "# The config is the **second positional argument** to stream() or invoke()!\n",
    "events = graph.stream(\n",
    "    {\"messages\": [(\"user\", user_input)]}, config, stream_mode=\"values\"\n",
    ")\n",
    "for event in events:\n",
    "    event[\"messages\"][-1].pretty_print()"
   ]
  },
  {
   "cell_type": "code",
   "execution_count": 17,
   "metadata": {},
   "outputs": [
    {
     "data": {
      "text/plain": [
       "StateSnapshot(values={'messages': [HumanMessage(content='Hi there! My name is Yamoto.', additional_kwargs={}, response_metadata={}, id='ebec2b3e-56ca-4f55-8f4e-9f92042e0e18'), AIMessage(content=\"Hello Yamoto! It's nice to meet you. How can I assist you today?\", additional_kwargs={}, response_metadata={'finish_reason': 'stop', 'model_name': 'gpt-3.5-turbo-0125'}, id='run-6166bf65-492f-4823-8085-2a99c40f3eff-0')]}, next=(), config={'configurable': {'thread_id': '1', 'checkpoint_ns': '', 'checkpoint_id': '1efa1010-b250-63bd-8001-3339e7717732'}}, metadata={'source': 'loop', 'writes': {'chatbot': {'messages': [AIMessage(content=\"Hello Yamoto! It's nice to meet you. How can I assist you today?\", additional_kwargs={}, response_metadata={'finish_reason': 'stop', 'model_name': 'gpt-3.5-turbo-0125'}, id='run-6166bf65-492f-4823-8085-2a99c40f3eff-0')]}}, 'thread_id': '1', 'step': 1, 'parents': {}}, created_at='2024-11-12T14:18:52.578843+00:00', parent_config={'configurable': {'thread_id': '1', 'checkpoint_ns': '', 'checkpoint_id': '1efa1010-a32e-6deb-8000-1ef1c382223d'}}, tasks=())"
      ]
     },
     "execution_count": 17,
     "metadata": {},
     "output_type": "execute_result"
    }
   ],
   "source": [
    "graph.get_state(config)"
   ]
  },
  {
   "cell_type": "code",
   "execution_count": 18,
   "metadata": {},
   "outputs": [
    {
     "data": {
      "text/plain": [
       "[StateSnapshot(values={'messages': [HumanMessage(content='Hi there! My name is Yamoto.', additional_kwargs={}, response_metadata={}, id='ebec2b3e-56ca-4f55-8f4e-9f92042e0e18'), AIMessage(content=\"Hello Yamoto! It's nice to meet you. How can I assist you today?\", additional_kwargs={}, response_metadata={'finish_reason': 'stop', 'model_name': 'gpt-3.5-turbo-0125'}, id='run-6166bf65-492f-4823-8085-2a99c40f3eff-0')]}, next=(), config={'configurable': {'thread_id': '1', 'checkpoint_ns': '', 'checkpoint_id': '1efa1010-b250-63bd-8001-3339e7717732'}}, metadata={'source': 'loop', 'writes': {'chatbot': {'messages': [AIMessage(content=\"Hello Yamoto! It's nice to meet you. How can I assist you today?\", additional_kwargs={}, response_metadata={'finish_reason': 'stop', 'model_name': 'gpt-3.5-turbo-0125'}, id='run-6166bf65-492f-4823-8085-2a99c40f3eff-0')]}}, 'thread_id': '1', 'step': 1, 'parents': {}}, created_at='2024-11-12T14:18:52.578843+00:00', parent_config={'configurable': {'thread_id': '1', 'checkpoint_ns': '', 'checkpoint_id': '1efa1010-a32e-6deb-8000-1ef1c382223d'}}, tasks=()),\n",
       " StateSnapshot(values={'messages': [HumanMessage(content='Hi there! My name is Yamoto.', additional_kwargs={}, response_metadata={}, id='ebec2b3e-56ca-4f55-8f4e-9f92042e0e18')]}, next=('chatbot',), config={'configurable': {'thread_id': '1', 'checkpoint_ns': '', 'checkpoint_id': '1efa1010-a32e-6deb-8000-1ef1c382223d'}}, metadata={'source': 'loop', 'writes': None, 'thread_id': '1', 'step': 0, 'parents': {}}, created_at='2024-11-12T14:18:50.992366+00:00', parent_config={'configurable': {'thread_id': '1', 'checkpoint_ns': '', 'checkpoint_id': '1efa1010-a32c-6226-bfff-6024566e963f'}}, tasks=(PregelTask(id='d6fe8085-ee5a-1ed9-1012-a23c346ccc67', name='chatbot', path=('__pregel_pull', 'chatbot'), error=None, interrupts=(), state=None, result={'messages': [AIMessage(content=\"Hello Yamoto! It's nice to meet you. How can I assist you today?\", additional_kwargs={}, response_metadata={'finish_reason': 'stop', 'model_name': 'gpt-3.5-turbo-0125'}, id='run-6166bf65-492f-4823-8085-2a99c40f3eff-0')]}),)),\n",
       " StateSnapshot(values={'messages': []}, next=('__start__',), config={'configurable': {'thread_id': '1', 'checkpoint_ns': '', 'checkpoint_id': '1efa1010-a32c-6226-bfff-6024566e963f'}}, metadata={'source': 'input', 'writes': {'__start__': {'messages': [['user', 'Hi there! My name is Yamoto.']]}}, 'thread_id': '1', 'step': -1, 'parents': {}}, created_at='2024-11-12T14:18:50.991253+00:00', parent_config=None, tasks=(PregelTask(id='b33bf31d-0944-1145-66e8-bc37d5ab8303', name='__start__', path=('__pregel_pull', '__start__'), error=None, interrupts=(), state=None, result={'messages': [['user', 'Hi there! My name is Yamoto.']]}),))]"
      ]
     },
     "execution_count": 18,
     "metadata": {},
     "output_type": "execute_result"
    }
   ],
   "source": [
    "list(graph.get_state_history(config))"
   ]
  },
  {
   "cell_type": "code",
   "execution_count": 19,
   "metadata": {},
   "outputs": [
    {
     "name": "stdout",
     "output_type": "stream",
     "text": [
      "================================\u001b[1m Human Message \u001b[0m=================================\n",
      "\n",
      "Guess where I am from!\n",
      "==================================\u001b[1m Ai Message \u001b[0m==================================\n",
      "\n",
      "Hmm, that's a tough one! Based on your name, I would guess that you are from Japan. Am I correct?\n"
     ]
    }
   ],
   "source": [
    "user_input = \"Guess where I am from!\"\n",
    "\n",
    "# The config is the **second positional argument** to stream() or invoke()!\n",
    "events = graph.stream(\n",
    "    {\"messages\": [(\"user\", user_input)]}, config, stream_mode=\"values\"\n",
    ")\n",
    "for event in events:\n",
    "    event[\"messages\"][-1].pretty_print()"
   ]
  },
  {
   "cell_type": "code",
   "execution_count": 20,
   "metadata": {},
   "outputs": [
    {
     "data": {
      "text/plain": [
       "[StateSnapshot(values={'messages': [HumanMessage(content='Hi there! My name is Yamoto.', additional_kwargs={}, response_metadata={}, id='ebec2b3e-56ca-4f55-8f4e-9f92042e0e18'), AIMessage(content=\"Hello Yamoto! It's nice to meet you. How can I assist you today?\", additional_kwargs={}, response_metadata={'finish_reason': 'stop', 'model_name': 'gpt-3.5-turbo-0125'}, id='run-6166bf65-492f-4823-8085-2a99c40f3eff-0'), HumanMessage(content='Guess where I am from!', additional_kwargs={}, response_metadata={}, id='a5624ad3-2a37-4097-96d6-27dce07021a2'), AIMessage(content=\"Hmm, that's a tough one! Based on your name, I would guess that you are from Japan. Am I correct?\", additional_kwargs={}, response_metadata={'finish_reason': 'stop', 'model_name': 'gpt-3.5-turbo-0125'}, id='run-15b08a3a-e7fd-42c4-ab47-528f92263b16-0')]}, next=(), config={'configurable': {'thread_id': '1', 'checkpoint_ns': '', 'checkpoint_id': '1efa1021-44a1-6143-8004-0fb15af49463'}}, metadata={'source': 'loop', 'writes': {'chatbot': {'messages': [AIMessage(content=\"Hmm, that's a tough one! Based on your name, I would guess that you are from Japan. Am I correct?\", additional_kwargs={}, response_metadata={'finish_reason': 'stop', 'model_name': 'gpt-3.5-turbo-0125'}, id='run-15b08a3a-e7fd-42c4-ab47-528f92263b16-0')]}}, 'thread_id': '1', 'step': 4, 'parents': {}}, created_at='2024-11-12T14:26:17.417903+00:00', parent_config={'configurable': {'thread_id': '1', 'checkpoint_ns': '', 'checkpoint_id': '1efa1021-3bfe-62af-8003-30cf66f8fdf8'}}, tasks=()),\n",
       " StateSnapshot(values={'messages': [HumanMessage(content='Hi there! My name is Yamoto.', additional_kwargs={}, response_metadata={}, id='ebec2b3e-56ca-4f55-8f4e-9f92042e0e18'), AIMessage(content=\"Hello Yamoto! It's nice to meet you. How can I assist you today?\", additional_kwargs={}, response_metadata={'finish_reason': 'stop', 'model_name': 'gpt-3.5-turbo-0125'}, id='run-6166bf65-492f-4823-8085-2a99c40f3eff-0'), HumanMessage(content='Guess where I am from!', additional_kwargs={}, response_metadata={}, id='a5624ad3-2a37-4097-96d6-27dce07021a2')]}, next=('chatbot',), config={'configurable': {'thread_id': '1', 'checkpoint_ns': '', 'checkpoint_id': '1efa1021-3bfe-62af-8003-30cf66f8fdf8'}}, metadata={'source': 'loop', 'writes': None, 'thread_id': '1', 'step': 3, 'parents': {}}, created_at='2024-11-12T14:26:16.512364+00:00', parent_config={'configurable': {'thread_id': '1', 'checkpoint_ns': '', 'checkpoint_id': '1efa1021-3bfa-6999-8002-68efbfccb9ea'}}, tasks=(PregelTask(id='23b8586c-fd7d-4bd3-4117-acd6dd16f3a6', name='chatbot', path=('__pregel_pull', 'chatbot'), error=None, interrupts=(), state=None, result={'messages': [AIMessage(content=\"Hmm, that's a tough one! Based on your name, I would guess that you are from Japan. Am I correct?\", additional_kwargs={}, response_metadata={'finish_reason': 'stop', 'model_name': 'gpt-3.5-turbo-0125'}, id='run-15b08a3a-e7fd-42c4-ab47-528f92263b16-0')]}),)),\n",
       " StateSnapshot(values={'messages': [HumanMessage(content='Hi there! My name is Yamoto.', additional_kwargs={}, response_metadata={}, id='ebec2b3e-56ca-4f55-8f4e-9f92042e0e18'), AIMessage(content=\"Hello Yamoto! It's nice to meet you. How can I assist you today?\", additional_kwargs={}, response_metadata={'finish_reason': 'stop', 'model_name': 'gpt-3.5-turbo-0125'}, id='run-6166bf65-492f-4823-8085-2a99c40f3eff-0')]}, next=('__start__',), config={'configurable': {'thread_id': '1', 'checkpoint_ns': '', 'checkpoint_id': '1efa1021-3bfa-6999-8002-68efbfccb9ea'}}, metadata={'source': 'input', 'writes': {'__start__': {'messages': [['user', 'Guess where I am from!']]}}, 'thread_id': '1', 'step': 2, 'parents': {}}, created_at='2024-11-12T14:26:16.510903+00:00', parent_config={'configurable': {'thread_id': '1', 'checkpoint_ns': '', 'checkpoint_id': '1efa1010-b250-63bd-8001-3339e7717732'}}, tasks=(PregelTask(id='eca24045-2ca8-d0e7-4bd1-76a80c604845', name='__start__', path=('__pregel_pull', '__start__'), error=None, interrupts=(), state=None, result={'messages': [['user', 'Guess where I am from!']]}),)),\n",
       " StateSnapshot(values={'messages': [HumanMessage(content='Hi there! My name is Yamoto.', additional_kwargs={}, response_metadata={}, id='ebec2b3e-56ca-4f55-8f4e-9f92042e0e18'), AIMessage(content=\"Hello Yamoto! It's nice to meet you. How can I assist you today?\", additional_kwargs={}, response_metadata={'finish_reason': 'stop', 'model_name': 'gpt-3.5-turbo-0125'}, id='run-6166bf65-492f-4823-8085-2a99c40f3eff-0')]}, next=(), config={'configurable': {'thread_id': '1', 'checkpoint_ns': '', 'checkpoint_id': '1efa1010-b250-63bd-8001-3339e7717732'}}, metadata={'source': 'loop', 'writes': {'chatbot': {'messages': [AIMessage(content=\"Hello Yamoto! It's nice to meet you. How can I assist you today?\", additional_kwargs={}, response_metadata={'finish_reason': 'stop', 'model_name': 'gpt-3.5-turbo-0125'}, id='run-6166bf65-492f-4823-8085-2a99c40f3eff-0')]}}, 'thread_id': '1', 'step': 1, 'parents': {}}, created_at='2024-11-12T14:18:52.578843+00:00', parent_config={'configurable': {'thread_id': '1', 'checkpoint_ns': '', 'checkpoint_id': '1efa1010-a32e-6deb-8000-1ef1c382223d'}}, tasks=()),\n",
       " StateSnapshot(values={'messages': [HumanMessage(content='Hi there! My name is Yamoto.', additional_kwargs={}, response_metadata={}, id='ebec2b3e-56ca-4f55-8f4e-9f92042e0e18')]}, next=('chatbot',), config={'configurable': {'thread_id': '1', 'checkpoint_ns': '', 'checkpoint_id': '1efa1010-a32e-6deb-8000-1ef1c382223d'}}, metadata={'source': 'loop', 'writes': None, 'thread_id': '1', 'step': 0, 'parents': {}}, created_at='2024-11-12T14:18:50.992366+00:00', parent_config={'configurable': {'thread_id': '1', 'checkpoint_ns': '', 'checkpoint_id': '1efa1010-a32c-6226-bfff-6024566e963f'}}, tasks=(PregelTask(id='d6fe8085-ee5a-1ed9-1012-a23c346ccc67', name='chatbot', path=('__pregel_pull', 'chatbot'), error=None, interrupts=(), state=None, result={'messages': [AIMessage(content=\"Hello Yamoto! It's nice to meet you. How can I assist you today?\", additional_kwargs={}, response_metadata={'finish_reason': 'stop', 'model_name': 'gpt-3.5-turbo-0125'}, id='run-6166bf65-492f-4823-8085-2a99c40f3eff-0')]}),)),\n",
       " StateSnapshot(values={'messages': []}, next=('__start__',), config={'configurable': {'thread_id': '1', 'checkpoint_ns': '', 'checkpoint_id': '1efa1010-a32c-6226-bfff-6024566e963f'}}, metadata={'source': 'input', 'writes': {'__start__': {'messages': [['user', 'Hi there! My name is Yamoto.']]}}, 'thread_id': '1', 'step': -1, 'parents': {}}, created_at='2024-11-12T14:18:50.991253+00:00', parent_config=None, tasks=(PregelTask(id='b33bf31d-0944-1145-66e8-bc37d5ab8303', name='__start__', path=('__pregel_pull', '__start__'), error=None, interrupts=(), state=None, result={'messages': [['user', 'Hi there! My name is Yamoto.']]}),))]"
      ]
     },
     "execution_count": 20,
     "metadata": {},
     "output_type": "execute_result"
    }
   ],
   "source": [
    "list(graph.get_state_history(config))"
   ]
  },
  {
   "cell_type": "code",
   "execution_count": 26,
   "metadata": {},
   "outputs": [
    {
     "data": {
      "text/plain": [
       "[HumanMessage(content='Hi there! My name is Yamoto.', additional_kwargs={}, response_metadata={}, id='ebec2b3e-56ca-4f55-8f4e-9f92042e0e18'),\n",
       " AIMessage(content=\"Hello Yamoto! It's nice to meet you. How can I assist you today?\", additional_kwargs={}, response_metadata={'finish_reason': 'stop', 'model_name': 'gpt-3.5-turbo-0125'}, id='run-6166bf65-492f-4823-8085-2a99c40f3eff-0'),\n",
       " HumanMessage(content='Guess where I am from!', additional_kwargs={}, response_metadata={}, id='a5624ad3-2a37-4097-96d6-27dce07021a2'),\n",
       " AIMessage(content=\"Hmm, that's a tough one! Based on your name, I would guess that you are from Japan. Am I correct?\", additional_kwargs={}, response_metadata={'finish_reason': 'stop', 'model_name': 'gpt-3.5-turbo-0125'}, id='run-15b08a3a-e7fd-42c4-ab47-528f92263b16-0')]"
      ]
     },
     "execution_count": 26,
     "metadata": {},
     "output_type": "execute_result"
    }
   ],
   "source": [
    "list(graph.get_state_history(config))[0].values['messages']"
   ]
  },
  {
   "cell_type": "code",
   "execution_count": null,
   "metadata": {},
   "outputs": [],
   "source": []
  }
 ],
 "metadata": {
  "kernelspec": {
   "display_name": "Python 3",
   "language": "python",
   "name": "python3"
  },
  "language_info": {
   "codemirror_mode": {
    "name": "ipython",
    "version": 3
   },
   "file_extension": ".py",
   "mimetype": "text/x-python",
   "name": "python",
   "nbconvert_exporter": "python",
   "pygments_lexer": "ipython3",
   "version": "3.11.10"
  }
 },
 "nbformat": 4,
 "nbformat_minor": 2
}
